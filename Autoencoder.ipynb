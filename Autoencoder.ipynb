{
  "nbformat": 4,
  "nbformat_minor": 0,
  "metadata": {
    "colab": {
      "name": "Autoencoder.ipynb",
      "provenance": [],
      "collapsed_sections": [],
      "include_colab_link": true
    },
    "kernelspec": {
      "name": "python3",
      "display_name": "Python 3"
    },
    "language_info": {
      "name": "python"
    },
    "accelerator": "GPU",
    "widgets": {
      "application/vnd.jupyter.widget-state+json": {
        "9738d139e3d24ef190daca939f2452ba": {
          "model_module": "@jupyter-widgets/controls",
          "model_name": "HBoxModel",
          "model_module_version": "1.5.0",
          "state": {
            "_dom_classes": [],
            "_model_module": "@jupyter-widgets/controls",
            "_model_module_version": "1.5.0",
            "_model_name": "HBoxModel",
            "_view_count": null,
            "_view_module": "@jupyter-widgets/controls",
            "_view_module_version": "1.5.0",
            "_view_name": "HBoxView",
            "box_style": "",
            "children": [
              "IPY_MODEL_0c1cee9493aa49089e3b1f2aa632cbba",
              "IPY_MODEL_3317c36bf6de40819a7de9029d0a8832",
              "IPY_MODEL_62c4848b7d324150b7d49dd6d200effb"
            ],
            "layout": "IPY_MODEL_c1184145ebdf4ef4b489aa6807a15ce9"
          }
        },
        "0c1cee9493aa49089e3b1f2aa632cbba": {
          "model_module": "@jupyter-widgets/controls",
          "model_name": "HTMLModel",
          "model_module_version": "1.5.0",
          "state": {
            "_dom_classes": [],
            "_model_module": "@jupyter-widgets/controls",
            "_model_module_version": "1.5.0",
            "_model_name": "HTMLModel",
            "_view_count": null,
            "_view_module": "@jupyter-widgets/controls",
            "_view_module_version": "1.5.0",
            "_view_name": "HTMLView",
            "description": "",
            "description_tooltip": null,
            "layout": "IPY_MODEL_6f5d5aef2eca4ce1a2fbc049e3cf89fb",
            "placeholder": "​",
            "style": "IPY_MODEL_e2a85f75752144e992206692b9981184",
            "value": ""
          }
        },
        "3317c36bf6de40819a7de9029d0a8832": {
          "model_module": "@jupyter-widgets/controls",
          "model_name": "FloatProgressModel",
          "model_module_version": "1.5.0",
          "state": {
            "_dom_classes": [],
            "_model_module": "@jupyter-widgets/controls",
            "_model_module_version": "1.5.0",
            "_model_name": "FloatProgressModel",
            "_view_count": null,
            "_view_module": "@jupyter-widgets/controls",
            "_view_module_version": "1.5.0",
            "_view_name": "ProgressView",
            "bar_style": "success",
            "description": "",
            "description_tooltip": null,
            "layout": "IPY_MODEL_7257302e01b345edb79840bc90b51e80",
            "max": 170498071,
            "min": 0,
            "orientation": "horizontal",
            "style": "IPY_MODEL_939bfaef9c3a4300ba90ddffac588b93",
            "value": 170498071
          }
        },
        "62c4848b7d324150b7d49dd6d200effb": {
          "model_module": "@jupyter-widgets/controls",
          "model_name": "HTMLModel",
          "model_module_version": "1.5.0",
          "state": {
            "_dom_classes": [],
            "_model_module": "@jupyter-widgets/controls",
            "_model_module_version": "1.5.0",
            "_model_name": "HTMLModel",
            "_view_count": null,
            "_view_module": "@jupyter-widgets/controls",
            "_view_module_version": "1.5.0",
            "_view_name": "HTMLView",
            "description": "",
            "description_tooltip": null,
            "layout": "IPY_MODEL_a09e30857d314f96b4eedd694c06d67a",
            "placeholder": "​",
            "style": "IPY_MODEL_6aa433150ddc45109ee7f6c3f83e3ea6",
            "value": " 170499072/? [00:15&lt;00:00, 14218107.56it/s]"
          }
        },
        "c1184145ebdf4ef4b489aa6807a15ce9": {
          "model_module": "@jupyter-widgets/base",
          "model_name": "LayoutModel",
          "model_module_version": "1.2.0",
          "state": {
            "_model_module": "@jupyter-widgets/base",
            "_model_module_version": "1.2.0",
            "_model_name": "LayoutModel",
            "_view_count": null,
            "_view_module": "@jupyter-widgets/base",
            "_view_module_version": "1.2.0",
            "_view_name": "LayoutView",
            "align_content": null,
            "align_items": null,
            "align_self": null,
            "border": null,
            "bottom": null,
            "display": null,
            "flex": null,
            "flex_flow": null,
            "grid_area": null,
            "grid_auto_columns": null,
            "grid_auto_flow": null,
            "grid_auto_rows": null,
            "grid_column": null,
            "grid_gap": null,
            "grid_row": null,
            "grid_template_areas": null,
            "grid_template_columns": null,
            "grid_template_rows": null,
            "height": null,
            "justify_content": null,
            "justify_items": null,
            "left": null,
            "margin": null,
            "max_height": null,
            "max_width": null,
            "min_height": null,
            "min_width": null,
            "object_fit": null,
            "object_position": null,
            "order": null,
            "overflow": null,
            "overflow_x": null,
            "overflow_y": null,
            "padding": null,
            "right": null,
            "top": null,
            "visibility": null,
            "width": null
          }
        },
        "6f5d5aef2eca4ce1a2fbc049e3cf89fb": {
          "model_module": "@jupyter-widgets/base",
          "model_name": "LayoutModel",
          "model_module_version": "1.2.0",
          "state": {
            "_model_module": "@jupyter-widgets/base",
            "_model_module_version": "1.2.0",
            "_model_name": "LayoutModel",
            "_view_count": null,
            "_view_module": "@jupyter-widgets/base",
            "_view_module_version": "1.2.0",
            "_view_name": "LayoutView",
            "align_content": null,
            "align_items": null,
            "align_self": null,
            "border": null,
            "bottom": null,
            "display": null,
            "flex": null,
            "flex_flow": null,
            "grid_area": null,
            "grid_auto_columns": null,
            "grid_auto_flow": null,
            "grid_auto_rows": null,
            "grid_column": null,
            "grid_gap": null,
            "grid_row": null,
            "grid_template_areas": null,
            "grid_template_columns": null,
            "grid_template_rows": null,
            "height": null,
            "justify_content": null,
            "justify_items": null,
            "left": null,
            "margin": null,
            "max_height": null,
            "max_width": null,
            "min_height": null,
            "min_width": null,
            "object_fit": null,
            "object_position": null,
            "order": null,
            "overflow": null,
            "overflow_x": null,
            "overflow_y": null,
            "padding": null,
            "right": null,
            "top": null,
            "visibility": null,
            "width": null
          }
        },
        "e2a85f75752144e992206692b9981184": {
          "model_module": "@jupyter-widgets/controls",
          "model_name": "DescriptionStyleModel",
          "model_module_version": "1.5.0",
          "state": {
            "_model_module": "@jupyter-widgets/controls",
            "_model_module_version": "1.5.0",
            "_model_name": "DescriptionStyleModel",
            "_view_count": null,
            "_view_module": "@jupyter-widgets/base",
            "_view_module_version": "1.2.0",
            "_view_name": "StyleView",
            "description_width": ""
          }
        },
        "7257302e01b345edb79840bc90b51e80": {
          "model_module": "@jupyter-widgets/base",
          "model_name": "LayoutModel",
          "model_module_version": "1.2.0",
          "state": {
            "_model_module": "@jupyter-widgets/base",
            "_model_module_version": "1.2.0",
            "_model_name": "LayoutModel",
            "_view_count": null,
            "_view_module": "@jupyter-widgets/base",
            "_view_module_version": "1.2.0",
            "_view_name": "LayoutView",
            "align_content": null,
            "align_items": null,
            "align_self": null,
            "border": null,
            "bottom": null,
            "display": null,
            "flex": null,
            "flex_flow": null,
            "grid_area": null,
            "grid_auto_columns": null,
            "grid_auto_flow": null,
            "grid_auto_rows": null,
            "grid_column": null,
            "grid_gap": null,
            "grid_row": null,
            "grid_template_areas": null,
            "grid_template_columns": null,
            "grid_template_rows": null,
            "height": null,
            "justify_content": null,
            "justify_items": null,
            "left": null,
            "margin": null,
            "max_height": null,
            "max_width": null,
            "min_height": null,
            "min_width": null,
            "object_fit": null,
            "object_position": null,
            "order": null,
            "overflow": null,
            "overflow_x": null,
            "overflow_y": null,
            "padding": null,
            "right": null,
            "top": null,
            "visibility": null,
            "width": null
          }
        },
        "939bfaef9c3a4300ba90ddffac588b93": {
          "model_module": "@jupyter-widgets/controls",
          "model_name": "ProgressStyleModel",
          "model_module_version": "1.5.0",
          "state": {
            "_model_module": "@jupyter-widgets/controls",
            "_model_module_version": "1.5.0",
            "_model_name": "ProgressStyleModel",
            "_view_count": null,
            "_view_module": "@jupyter-widgets/base",
            "_view_module_version": "1.2.0",
            "_view_name": "StyleView",
            "bar_color": null,
            "description_width": ""
          }
        },
        "a09e30857d314f96b4eedd694c06d67a": {
          "model_module": "@jupyter-widgets/base",
          "model_name": "LayoutModel",
          "model_module_version": "1.2.0",
          "state": {
            "_model_module": "@jupyter-widgets/base",
            "_model_module_version": "1.2.0",
            "_model_name": "LayoutModel",
            "_view_count": null,
            "_view_module": "@jupyter-widgets/base",
            "_view_module_version": "1.2.0",
            "_view_name": "LayoutView",
            "align_content": null,
            "align_items": null,
            "align_self": null,
            "border": null,
            "bottom": null,
            "display": null,
            "flex": null,
            "flex_flow": null,
            "grid_area": null,
            "grid_auto_columns": null,
            "grid_auto_flow": null,
            "grid_auto_rows": null,
            "grid_column": null,
            "grid_gap": null,
            "grid_row": null,
            "grid_template_areas": null,
            "grid_template_columns": null,
            "grid_template_rows": null,
            "height": null,
            "justify_content": null,
            "justify_items": null,
            "left": null,
            "margin": null,
            "max_height": null,
            "max_width": null,
            "min_height": null,
            "min_width": null,
            "object_fit": null,
            "object_position": null,
            "order": null,
            "overflow": null,
            "overflow_x": null,
            "overflow_y": null,
            "padding": null,
            "right": null,
            "top": null,
            "visibility": null,
            "width": null
          }
        },
        "6aa433150ddc45109ee7f6c3f83e3ea6": {
          "model_module": "@jupyter-widgets/controls",
          "model_name": "DescriptionStyleModel",
          "model_module_version": "1.5.0",
          "state": {
            "_model_module": "@jupyter-widgets/controls",
            "_model_module_version": "1.5.0",
            "_model_name": "DescriptionStyleModel",
            "_view_count": null,
            "_view_module": "@jupyter-widgets/base",
            "_view_module_version": "1.2.0",
            "_view_name": "StyleView",
            "description_width": ""
          }
        }
      }
    }
  },
  "cells": [
    {
      "cell_type": "markdown",
      "metadata": {
        "id": "view-in-github",
        "colab_type": "text"
      },
      "source": [
        "<a href=\"https://colab.research.google.com/github/puzzlingConundrum/AutoEncoder-CIFAR10/blob/main/Autoencoder.ipynb\" target=\"_parent\"><img src=\"https://colab.research.google.com/assets/colab-badge.svg\" alt=\"Open In Colab\"/></a>"
      ]
    },
    {
      "cell_type": "code",
      "execution_count": 1,
      "metadata": {
        "id": "_ZnO5AeDp_6a"
      },
      "outputs": [],
      "source": [
        "import os\n",
        "import numpy as np\n",
        "import matplotlib.pyplot as plt\n",
        "import torch\n",
        "import torch.nn as nn\n",
        "import torch.nn.functional as F\n",
        "import torch.utils.data as data\n",
        "import torch.optim as optim\n",
        "import torchvision\n",
        "from torchvision.datasets import CIFAR10\n",
        "from torch.utils.data import DataLoader\n",
        "import torchvision.transforms as transforms"
      ]
    },
    {
      "cell_type": "code",
      "source": [
        "from google.colab import drive\n",
        "drive.mount(\"/content/drive\")"
      ],
      "metadata": {
        "colab": {
          "base_uri": "https://localhost:8080/"
        },
        "id": "6SxO2WPgqTre",
        "outputId": "2147e844-0469-4d30-8f1c-773debe8b583"
      },
      "execution_count": 2,
      "outputs": [
        {
          "output_type": "stream",
          "name": "stdout",
          "text": [
            "Mounted at /content/drive\n"
          ]
        }
      ]
    },
    {
      "cell_type": "code",
      "source": [
        "transform = transforms.Compose(\n",
        "    [\n",
        "        transforms.ToTensor(),\n",
        "        transforms.Normalize((0.4914, 0.4822, 0.4465), (0.2023, 0.1994, 0.2010))\n",
        "    ]\n",
        ")\n",
        "\n",
        "batch_size = 64\n",
        "\n",
        "trainset = CIFAR10(root='./data', train=True, download=True, transform=transform)\n",
        "trainloader = DataLoader(trainset, batch_size = batch_size, shuffle=True)\n",
        "testset = CIFAR10(root='./data', train=False, download=True, transform=transform)\n",
        "testloader = DataLoader(testset, batch_size = batch_size, shuffle=True)\n",
        "\n",
        "classes = ('plane', 'car', 'bird', 'cat', 'deer', 'dog', 'frog', 'horse', 'ship', 'truck')\n"
      ],
      "metadata": {
        "colab": {
          "base_uri": "https://localhost:8080/",
          "height": 101,
          "referenced_widgets": [
            "9738d139e3d24ef190daca939f2452ba",
            "0c1cee9493aa49089e3b1f2aa632cbba",
            "3317c36bf6de40819a7de9029d0a8832",
            "62c4848b7d324150b7d49dd6d200effb",
            "c1184145ebdf4ef4b489aa6807a15ce9",
            "6f5d5aef2eca4ce1a2fbc049e3cf89fb",
            "e2a85f75752144e992206692b9981184",
            "7257302e01b345edb79840bc90b51e80",
            "939bfaef9c3a4300ba90ddffac588b93",
            "a09e30857d314f96b4eedd694c06d67a",
            "6aa433150ddc45109ee7f6c3f83e3ea6"
          ]
        },
        "id": "NjVcXOF3q32w",
        "outputId": "75a0a228-09e1-49f2-ca3c-dda5b856be21"
      },
      "execution_count": 3,
      "outputs": [
        {
          "output_type": "stream",
          "name": "stdout",
          "text": [
            "Downloading https://www.cs.toronto.edu/~kriz/cifar-10-python.tar.gz to ./data/cifar-10-python.tar.gz\n"
          ]
        },
        {
          "output_type": "display_data",
          "data": {
            "text/plain": [
              "  0%|          | 0/170498071 [00:00<?, ?it/s]"
            ],
            "application/vnd.jupyter.widget-view+json": {
              "version_major": 2,
              "version_minor": 0,
              "model_id": "9738d139e3d24ef190daca939f2452ba"
            }
          },
          "metadata": {}
        },
        {
          "output_type": "stream",
          "name": "stdout",
          "text": [
            "Extracting ./data/cifar-10-python.tar.gz to ./data\n",
            "Files already downloaded and verified\n"
          ]
        }
      ]
    },
    {
      "cell_type": "code",
      "source": [
        "(sample, label) = next(iter(trainloader))\n",
        "\n",
        "fig = plt.figure(figsize=(12,12))\n",
        "for i in range(4):\n",
        "    fig.add_subplot(1, 4, i+1)\n",
        "    plt.imshow(sample[i].permute(1, 2, 0))\n",
        "    plt.title(f\"{classes[label[i]]}\")"
      ],
      "metadata": {
        "colab": {
          "base_uri": "https://localhost:8080/",
          "height": 278
        },
        "id": "EKs8N6Fcr4Fo",
        "outputId": "4a889666-3d15-419f-ebc6-83c5443b6505"
      },
      "execution_count": 4,
      "outputs": [
        {
          "output_type": "stream",
          "name": "stderr",
          "text": [
            "Clipping input data to the valid range for imshow with RGB data ([0..1] for floats or [0..255] for integers).\n",
            "Clipping input data to the valid range for imshow with RGB data ([0..1] for floats or [0..255] for integers).\n",
            "Clipping input data to the valid range for imshow with RGB data ([0..1] for floats or [0..255] for integers).\n",
            "Clipping input data to the valid range for imshow with RGB data ([0..1] for floats or [0..255] for integers).\n"
          ]
        },
        {
          "output_type": "display_data",
          "data": {
            "text/plain": [
              "<Figure size 864x864 with 4 Axes>"
            ],
            "image/png": "[encoded data removed]"
          },
          "metadata": {
            "needs_background": "light"
          }
        }
      ]
    },
    {
      "cell_type": "code",
      "source": [
        "class AutoEncoder(nn.Module):\n",
        "    def __init__(self, w, h, channel, base_channel_size):\n",
        "        super(AutoEncoder, self).__init__()\n",
        "        c_hid = base_channel_size\n",
        "        self.enc = nn.Sequential(\n",
        "            nn.Conv2d(channel, c_hid, kernel_size=3, padding=1),\n",
        "            nn.ReLU(),\n",
        "            nn.MaxPool2d(2,2),\n",
        "            nn.Conv2d(c_hid, 2*c_hid, kernel_size=3, padding=1),\n",
        "            nn.ReLU()\n",
        "        )\n",
        "        self.pool = nn.MaxPool2d(2, 2)\n",
        "        self.dec = nn.Sequential(\n",
        "            nn.ConvTranspose2d(2*c_hid, c_hid, kernel_size=3, output_padding=1, padding=1, stride=2),\n",
        "            nn.ConvTranspose2d(c_hid, channel, kernel_size=3, output_padding=1, padding=1, stride=2),            \n",
        "            nn.Sigmoid()\n",
        "        )\n",
        "\n",
        "    def forward(self, x):\n",
        "        z = self.enc(x)\n",
        "        z = self.pool(z)\n",
        "        z = self.dec(z)\n",
        "        return z"
      ],
      "metadata": {
        "id": "HdIwj96MACUT"
      },
      "execution_count": 5,
      "outputs": []
    },
    {
      "cell_type": "code",
      "source": [
        "epochs = 30\n",
        "model = AutoEncoder(32, 32, 3, 8).cuda()\n",
        "print(model)\n",
        "\n",
        "criterion = nn.MSELoss()\n",
        "optim = torch.optim.Adam(model.parameters(), weight_decay=1E-3)\n",
        "lambda1 = lambda epoch: 0.99\n",
        "scheduler = torch.optim.lr_scheduler.MultiplicativeLR(optim, lr_lambda=lambda1)"
      ],
      "metadata": {
        "id": "BGIeq14C2VRG",
        "colab": {
          "base_uri": "https://localhost:8080/"
        },
        "outputId": "ced49093-f4e4-4840-b960-6529fb47ce40"
      },
      "execution_count": 6,
      "outputs": [
        {
          "output_type": "stream",
          "name": "stdout",
          "text": [
            "AutoEncoder(\n",
            "  (enc): Sequential(\n",
            "    (0): Conv2d(3, 8, kernel_size=(3, 3), stride=(1, 1), padding=(1, 1))\n",
            "    (1): ReLU()\n",
            "    (2): MaxPool2d(kernel_size=2, stride=2, padding=0, dilation=1, ceil_mode=False)\n",
            "    (3): Conv2d(8, 16, kernel_size=(3, 3), stride=(1, 1), padding=(1, 1))\n",
            "    (4): ReLU()\n",
            "  )\n",
            "  (pool): MaxPool2d(kernel_size=2, stride=2, padding=0, dilation=1, ceil_mode=False)\n",
            "  (dec): Sequential(\n",
            "    (0): ConvTranspose2d(16, 8, kernel_size=(3, 3), stride=(2, 2), padding=(1, 1), output_padding=(1, 1))\n",
            "    (1): ConvTranspose2d(8, 3, kernel_size=(3, 3), stride=(2, 2), padding=(1, 1), output_padding=(1, 1))\n",
            "    (2): Sigmoid()\n",
            "  )\n",
            ")\n"
          ]
        }
      ]
    },
    {
      "cell_type": "code",
      "source": [
        "for epoch in range(epochs):\n",
        "    train_loss = 0.0\n",
        "    test_loss = 0.0\n",
        "\n",
        "    for _, (batch, label) in enumerate(trainloader):\n",
        "        batch = batch.cuda()\n",
        "        prediction = model(batch)\n",
        "        loss = criterion(batch, prediction)\n",
        "\n",
        "        optim.zero_grad()\n",
        "        loss.backward()\n",
        "        optim.step()\n",
        "\n",
        "        train_loss += loss.item() / batch_size\n",
        "    \n",
        "    with torch.no_grad():\n",
        "        model.eval()\n",
        "        for _, (batch, label) in enumerate(testloader):\n",
        "            batch = batch.cuda()\n",
        "            label = label.cuda()\n",
        "\n",
        "            prediction = model(batch)\n",
        "            loss = criterion(batch, prediction)\n",
        "            \n",
        "            test_loss += loss.item() / batch_size\n",
        "    print(f\"{epoch+1}/{epochs} :  train_loss = {train_loss/len(trainset):.4f}, test_loss = {test_loss/len(testset):.4f}\")"
      ],
      "metadata": {
        "colab": {
          "base_uri": "https://localhost:8080/"
        },
        "id": "4PCVu_dtGyiZ",
        "outputId": "d41bcd04-17b9-4420-9cd0-bfe46e6657d1"
      },
      "execution_count": 7,
      "outputs": [
        {
          "output_type": "stream",
          "name": "stdout",
          "text": [
            "1/30 :  train_loss = 0.0003, test_loss = 0.0002\n",
            "2/30 :  train_loss = 0.0002, test_loss = 0.0002\n",
            "3/30 :  train_loss = 0.0002, test_loss = 0.0002\n",
            "4/30 :  train_loss = 0.0002, test_loss = 0.0002\n",
            "5/30 :  train_loss = 0.0002, test_loss = 0.0002\n",
            "6/30 :  train_loss = 0.0002, test_loss = 0.0002\n",
            "7/30 :  train_loss = 0.0002, test_loss = 0.0002\n",
            "8/30 :  train_loss = 0.0002, test_loss = 0.0002\n",
            "9/30 :  train_loss = 0.0002, test_loss = 0.0002\n",
            "10/30 :  train_loss = 0.0002, test_loss = 0.0002\n",
            "11/30 :  train_loss = 0.0002, test_loss = 0.0002\n",
            "12/30 :  train_loss = 0.0002, test_loss = 0.0002\n",
            "13/30 :  train_loss = 0.0002, test_loss = 0.0002\n",
            "14/30 :  train_loss = 0.0002, test_loss = 0.0002\n",
            "15/30 :  train_loss = 0.0002, test_loss = 0.0002\n",
            "16/30 :  train_loss = 0.0002, test_loss = 0.0002\n",
            "17/30 :  train_loss = 0.0002, test_loss = 0.0002\n",
            "18/30 :  train_loss = 0.0002, test_loss = 0.0002\n",
            "19/30 :  train_loss = 0.0002, test_loss = 0.0002\n",
            "20/30 :  train_loss = 0.0002, test_loss = 0.0002\n",
            "21/30 :  train_loss = 0.0002, test_loss = 0.0002\n",
            "22/30 :  train_loss = 0.0002, test_loss = 0.0002\n",
            "23/30 :  train_loss = 0.0002, test_loss = 0.0002\n",
            "24/30 :  train_loss = 0.0002, test_loss = 0.0002\n",
            "25/30 :  train_loss = 0.0002, test_loss = 0.0002\n",
            "26/30 :  train_loss = 0.0002, test_loss = 0.0002\n",
            "27/30 :  train_loss = 0.0002, test_loss = 0.0002\n",
            "28/30 :  train_loss = 0.0002, test_loss = 0.0002\n",
            "29/30 :  train_loss = 0.0002, test_loss = 0.0002\n",
            "30/30 :  train_loss = 0.0002, test_loss = 0.0002\n"
          ]
        }
      ]
    },
    {
      "cell_type": "code",
      "source": [
        "#Batch of test images\n",
        "dataiter = iter(testloader)\n",
        "images, labels = dataiter.next()\n",
        "\n",
        "#Sample outputs\n",
        "output = model(images.cuda())\n",
        "images = images.numpy()\n",
        "\n",
        "output = output.view(batch_size, 3, 32, 32)\n",
        "output = output.cpu().detach().numpy()\n",
        "\n",
        "#Original Images\n",
        "print(\"Original Images\")\n",
        "fig = plt.figure(figsize=(12,12))\n",
        "for idx in np.arange(4):\n",
        "    fig.add_subplot(1, 4, idx+1)\n",
        "    plt.imshow(np.transpose(images[idx].reshape(3,32,32), (1,2,0)))\n",
        "    plt.title(f\"{classes[labels[idx]]}\")\n",
        "plt.show()\n",
        "\n",
        "#Reconstructed Images\n",
        "print('Reconstructed Images')\n",
        "fig = plt.figure(figsize=(12,12))\n",
        "for idx in np.arange(4):\n",
        "    fig.add_subplot(1, 4, idx+1)\n",
        "    plt.imshow(np.transpose(output[idx].reshape(3,32,32), (1,2,0)))\n",
        "    plt.title(f\"{classes[labels[idx]]}\")\n",
        "plt.show()"
      ],
      "metadata": {
        "id": "ren5dRIqOjgv",
        "colab": {
          "base_uri": "https://localhost:8080/",
          "height": 505
        },
        "outputId": "249821d0-cf2d-416e-f0c8-fe3e9ce9990a"
      },
      "execution_count": 8,
      "outputs": [
        {
          "output_type": "stream",
          "name": "stderr",
          "text": [
            "Clipping input data to the valid range for imshow with RGB data ([0..1] for floats or [0..255] for integers).\n",
            "Clipping input data to the valid range for imshow with RGB data ([0..1] for floats or [0..255] for integers).\n",
            "Clipping input data to the valid range for imshow with RGB data ([0..1] for floats or [0..255] for integers).\n",
            "Clipping input data to the valid range for imshow with RGB data ([0..1] for floats or [0..255] for integers).\n"
          ]
        },
        {
          "output_type": "stream",
          "name": "stdout",
          "text": [
            "Original Images\n"
          ]
        },
        {
          "output_type": "display_data",
          "data": {
            "text/plain": [
              "<Figure size 864x864 with 4 Axes>"
            ],
            "image/png": "[encoded data removed]"
          },
          "metadata": {
            "needs_background": "light"
          }
        },
        {
          "output_type": "stream",
          "name": "stdout",
          "text": [
            "Reconstructed Images\n"
          ]
        },
        {
          "output_type": "display_data",
          "data": {
            "text/plain": [
              "<Figure size 864x864 with 4 Axes>"
            ],
            "image/png": "[encoded data removed]"
          },
          "metadata": {
            "needs_background": "light"
          }
        }
      ]
    }
  ]
}